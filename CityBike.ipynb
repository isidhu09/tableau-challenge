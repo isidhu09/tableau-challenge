{
 "cells": [
  {
   "cell_type": "code",
   "execution_count": null,
   "id": "817d0646",
   "metadata": {},
   "outputs": [],
   "source": [
    "# Dependencies\n",
    "import pandas as pd\n",
    "import datetime as dt\n",
    "import numpy as np\n",
    "import glob\n",
    "import os\n",
    "  \n",
    "# Downloaded csv files saved outside respository due to size limits\n",
    "# Please view readme for file locations\n",
    "# Merging the files\n",
    "joined_files = os.path.join(\"\", \"20220*.csv\")a\n",
    "  \n",
    "# A list of all joined files is returned\n",
    "joined_list = glob.glob(joined_files)\n",
    "  \n",
    "# Files are joined\n",
    "df = pd.concat(map(pd.read_csv, joined_list), ignore_index=True)"
   ]
  },
  {
   "cell_type": "code",
   "execution_count": null,
   "id": "e05fdee4",
   "metadata": {},
   "outputs": [],
   "source": [
    "# Initial set up and cleaning\n",
    "df.dropna(how='any')\n",
    "df['started_at'] = pd.to_datetime(df['started_at'])\n",
    "df['ended_at'] = pd.to_datetime(df['ended_at'])\n",
    "df['trip_duration'] = df['ended_at'] - df['started_at']\n",
    "df['month'] = pd.to_datetime(df['started_at']).dt.to_period('M')\n",
    "df['day_of_week'] = df['started_at'].dt.day_name()\n",
    "df = df.loc[df['trip_duration'] < '01:00:00', :]\n",
    "df = df[df['rideable_type'] != 'docked_bike']\n",
    "df['start_lat'] = df['start_lat'].round(3)\n",
    "df['start_lng'] = df['start_lng'].round(3)\n",
    "df['end_lat'] = df['end_lat'].round(3)\n",
    "df['end_lng'] = df['end_lng'].round(3)"
   ]
  },
  {
   "cell_type": "code",
   "execution_count": null,
   "id": "130b2dd3",
   "metadata": {},
   "outputs": [],
   "source": [
    "# Creating time bins for later grouping\n",
    "bins = [pd.Timedelta(minutes = 0),\n",
    "        pd.Timedelta(minutes = 10),\n",
    "        pd.Timedelta(minutes = 20),\n",
    "        pd.Timedelta(minutes = 30),\n",
    "        pd.Timedelta(minutes = 40),\n",
    "        pd.Timedelta(minutes = 50),\n",
    "        pd.Timedelta(hours = 4)]\n",
    "labels = ['0-10min', '11-20min', '21-30min', '31-40min', '41-50min', '51min+']\n",
    "df['time_bin'] = pd.cut(df['trip_duration'], bins, labels = labels)"
   ]
  },
  {
   "cell_type": "code",
   "execution_count": null,
   "id": "ef1197ba",
   "metadata": {},
   "outputs": [],
   "source": [
    "# Shape of dataframe to better grasp size\n",
    "df.shape"
   ]
  },
  {
   "cell_type": "code",
   "execution_count": null,
   "id": "a4cd9540",
   "metadata": {},
   "outputs": [],
   "source": [
    "# Copying df to maintain a clean base\n",
    "df2 = df.copy()\n",
    "df2 = df2.dropna(how='any')"
   ]
  },
  {
   "cell_type": "code",
   "execution_count": null,
   "id": "5a014f9b",
   "metadata": {},
   "outputs": [],
   "source": [
    "# Station summary data set up\n",
    "# Grouping by month/name\n",
    "df_sstation = df.groupby([df2['month'], df2['start_station_name'].rename('station')])\n",
    "df_estation = df.groupby([df2['month'], df2['end_station_name'].rename('station')])\n",
    "# Counting number of start and end stations\n",
    "sstation = df_sstation['start_station_name'].count().rename('scount')\n",
    "estation = df_estation['end_station_name'].count().rename('ecount')\n",
    "# Df for counts\n",
    "df_start = pd.DataFrame(sstation)\n",
    "df_end = pd.DataFrame(estation)"
   ]
  },
  {
   "cell_type": "code",
   "execution_count": null,
   "id": "ee47f893",
   "metadata": {},
   "outputs": [],
   "source": [
    "# Merging two df together\n",
    "station_summary = pd.merge(df_start, df_end, how='outer', on=['month', 'station'])\n",
    "# Creating the df and making na values 0\n",
    "df_station_summary = pd.DataFrame(station_summary)\n",
    "df_station_summary = df_station_summary.fillna(0)\n",
    "# Total counts combined end and start\n",
    "df_station_summary['total_s_e_counts'] = df_station_summary['scount'] + df_station_summary['ecount']"
   ]
  },
  {
   "cell_type": "code",
   "execution_count": null,
   "id": "27756f54",
   "metadata": {},
   "outputs": [],
   "source": [
    "# Creating CSV for Tableau\n",
    "df_station_summary.to_csv('Resources/station_summary.csv')"
   ]
  },
  {
   "cell_type": "code",
   "execution_count": null,
   "id": "2f30efcf",
   "metadata": {},
   "outputs": [],
   "source": [
    "# Lat/Lng table for starting location\n",
    "df_slocation = df2.filter(['start_station_name','start_lat','start_lng'], axis = 1).copy()\n",
    "df_slocation = df_slocation.sort_values('start_station_name')\n",
    "df_slocation = df_slocation.dropna(how='any')\n",
    "df_slocation_unique = df_slocation.drop_duplicates(subset = 'start_station_name', keep = 'first')"
   ]
  },
  {
   "cell_type": "code",
   "execution_count": null,
   "id": "ead3e47a",
   "metadata": {},
   "outputs": [],
   "source": [
    "# Creating CSV for Tableau\n",
    "df_slocation_unique.to_csv('Resources/slocation_table.csv')"
   ]
  },
  {
   "cell_type": "code",
   "execution_count": null,
   "id": "69d23910",
   "metadata": {},
   "outputs": [],
   "source": [
    "# Lat/Lng table for ending location\n",
    "df_elocation = df2.filter(['end_station_name','end_lat','end_lng'], axis = 1).copy()\n",
    "df_elocation = df_elocation.sort_values('end_station_name')\n",
    "df_elocation = df_elocation.dropna(how='any')\n",
    "df_elocation_unique = df_elocation.drop_duplicates(subset = 'end_station_name', keep = 'first')"
   ]
  },
  {
   "cell_type": "code",
   "execution_count": null,
   "id": "7698cef9",
   "metadata": {},
   "outputs": [],
   "source": [
    "# Creating CSV for Tableau\n",
    "df_elocation_unique.to_csv('Resources/elocation_table.csv')"
   ]
  },
  {
   "cell_type": "code",
   "execution_count": null,
   "id": "218b63ef",
   "metadata": {},
   "outputs": [],
   "source": [
    "# Member/Casual preference on type of bike\n",
    "df_type = df2.groupby([df2['member_casual']])\n",
    "classic_total = df_type['rideable_type'].apply(lambda x: (x=='classic_bike').sum())\n",
    "electric_total = df_type['rideable_type'].apply(lambda x: (x=='electric_bike').sum())"
   ]
  },
  {
   "cell_type": "code",
   "execution_count": null,
   "id": "c7b3139c",
   "metadata": {},
   "outputs": [],
   "source": [
    "# Creating df \n",
    "type_table = pd.DataFrame({\n",
    "    'Classic': classic_total,\n",
    "    'Electric': electric_total\n",
    "})"
   ]
  },
  {
   "cell_type": "code",
   "execution_count": null,
   "id": "ae722916",
   "metadata": {},
   "outputs": [],
   "source": [
    "# Creating CSV for Tableau\n",
    "type_table.to_csv('Resources/type_table.csv')"
   ]
  },
  {
   "cell_type": "code",
   "execution_count": null,
   "id": "5f35879d",
   "metadata": {},
   "outputs": [],
   "source": [
    "# Average duration by bike type\n",
    "df_type_duration = df2.groupby([df2['rideable_type']])\n",
    "type_duration = df_type_duration['trip_duration'].mean()"
   ]
  },
  {
   "cell_type": "code",
   "execution_count": null,
   "id": "ccd93583",
   "metadata": {},
   "outputs": [],
   "source": [
    "# Creating CSV for Tableau\n",
    "type_duration.to_csv('Resources/type_duration.csv')"
   ]
  },
  {
   "cell_type": "code",
   "execution_count": null,
   "id": "1a5cda67",
   "metadata": {},
   "outputs": [],
   "source": [
    "# Total counts by station and hour to see busiest times by station in a given month\n",
    "df_hour = df2.groupby([df2['month'], df2['started_at'].dt.hour.rename('hour')])\n",
    "hour_total = df_hour['started_at'].count().rename('counts')"
   ]
  },
  {
   "cell_type": "code",
   "execution_count": null,
   "id": "fe458d81",
   "metadata": {},
   "outputs": [],
   "source": [
    "# Creating CSV for Tableau\n",
    "hour_total.to_csv('Resources/hour_total.csv')"
   ]
  },
  {
   "cell_type": "code",
   "execution_count": null,
   "id": "7d11cbc1",
   "metadata": {},
   "outputs": [],
   "source": [
    "# Total counts by DOW and average trip times\n",
    "df_dayofweek = df2.groupby([df2['month'], df2['started_at'].dt.hour.rename('hour'), df2['day_of_week']])\n",
    "dow_total = df_dayofweek['day_of_week'].count().rename('counts')\n",
    "dow_duration = df_dayofweek['trip_duration'].mean()"
   ]
  },
  {
   "cell_type": "code",
   "execution_count": null,
   "id": "38183196",
   "metadata": {},
   "outputs": [],
   "source": [
    "# Creating df\n",
    "dow_duration_table = pd.DataFrame({\n",
    "    'dow_total': dow_total,\n",
    "    'dow_duration': dow_duration,\n",
    "})"
   ]
  },
  {
   "cell_type": "code",
   "execution_count": null,
   "id": "a58a29e5",
   "metadata": {},
   "outputs": [],
   "source": [
    "# Creating CSV for Tableau\n",
    "dow_duration_table.to_csv('Resources/dow_duration_table.csv')"
   ]
  },
  {
   "cell_type": "code",
   "execution_count": null,
   "id": "4c02a13f",
   "metadata": {},
   "outputs": [],
   "source": [
    "# Total counts by station and DOW\n",
    "df_station_dayofweek = df2.groupby([df2['month'], df2['start_station_name'], df2['day_of_week']])\n",
    "dow_station_total = df_station_dayofweek['day_of_week'].count().rename('counts')"
   ]
  },
  {
   "cell_type": "code",
   "execution_count": null,
   "id": "ea426bef",
   "metadata": {},
   "outputs": [],
   "source": [
    "# Creating CSV for Tableau\n",
    "dow_station_total.to_csv('Resources/dow_station_total.csv')"
   ]
  },
  {
   "cell_type": "code",
   "execution_count": null,
   "id": "8d2e6c4a",
   "metadata": {},
   "outputs": [],
   "source": [
    "# Total counts by station and time bins\n",
    "df_bin_count = df2.groupby([df2['month'], df2['start_station_name'], df2['time_bin']])\n",
    "dow_bin_total = df_bin_count['started_at'].count().rename('counts')"
   ]
  },
  {
   "cell_type": "code",
   "execution_count": null,
   "id": "172b350c",
   "metadata": {},
   "outputs": [],
   "source": [
    "# Creating CSV for Tableau\n",
    "dow_bin_total.to_csv('Resources/dow_bin_total.csv')"
   ]
  },
  {
   "cell_type": "code",
   "execution_count": null,
   "id": "74c999ee",
   "metadata": {},
   "outputs": [],
   "source": [
    "# Creating summary table for high level values\n",
    "df_summary = df2.groupby([df2['month']])\n",
    "ride_total = df_summary['ride_id'].count()\n",
    "members_total = df_summary['member_casual'].apply(lambda x: (x=='member').sum())\n",
    "casual_total = df_summary['member_casual'].apply(lambda x: (x=='casual').sum())\n",
    "classic_total = df_summary['rideable_type'].apply(lambda x: (x=='classic_bike').sum())\n",
    "electric_total = df_summary['rideable_type'].apply(lambda x: (x=='electric_bike').sum())\n",
    "duration_avg = df_summary['trip_duration'].mean()"
   ]
  },
  {
   "cell_type": "code",
   "execution_count": null,
   "id": "4c479221",
   "metadata": {},
   "outputs": [],
   "source": [
    "# Creating df\n",
    "summary_table = pd.DataFrame({\n",
    "    'total_rides': ride_total,\n",
    "    'total_member': members_total,\n",
    "    'total_casual': casual_total,\n",
    "    'total_classic': classic_total,\n",
    "    'total_electric': electric_total,\n",
    "    'avg_duration': duration_avg\n",
    "})"
   ]
  },
  {
   "cell_type": "code",
   "execution_count": null,
   "id": "dc2763bf",
   "metadata": {},
   "outputs": [],
   "source": [
    "# Creating CSV for Tableau\n",
    "summary_table.to_csv('Resources/summary_table.csv')"
   ]
  },
  {
   "cell_type": "code",
   "execution_count": null,
   "id": "7bb8cbc4",
   "metadata": {},
   "outputs": [],
   "source": []
  }
 ],
 "metadata": {
  "kernelspec": {
   "display_name": "Python [conda env:PythonData38] *",
   "language": "python",
   "name": "conda-env-PythonData38-py"
  },
  "language_info": {
   "codemirror_mode": {
    "name": "ipython",
    "version": 3
   },
   "file_extension": ".py",
   "mimetype": "text/x-python",
   "name": "python",
   "nbconvert_exporter": "python",
   "pygments_lexer": "ipython3",
   "version": "3.8.12"
  }
 },
 "nbformat": 4,
 "nbformat_minor": 5
}
